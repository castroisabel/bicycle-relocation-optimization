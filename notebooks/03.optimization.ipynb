{
 "cells": [
  {
   "cell_type": "code",
   "execution_count": 5,
   "metadata": {},
   "outputs": [],
   "source": [
    "import numpy as np\n",
    "import pyomo.environ as pyEnv"
   ]
  },
  {
   "cell_type": "code",
   "execution_count": 29,
   "metadata": {},
   "outputs": [],
   "source": [
    "# 2 areas, expected profits for 4 bicycles, 2 categories\n",
    "areas = [\n",
    "    [[1, 5], [2, 3], [3, 2], [4, 1]],\n",
    "    [[8, 3], [5, 4], [2, 7], [1, 6]]\n",
    "]\n",
    "matrix = np.array(areas)\n",
    "a = [5, 10] # surplus of bicycles available\n",
    "s = [1, 2] # space each bicycle category occupies\n",
    "T = 50 # total space available"
   ]
  },
  {
   "cell_type": "code",
   "execution_count": 30,
   "metadata": {},
   "outputs": [
    {
     "name": "stdout",
     "output_type": "stream",
     "text": [
      "WARNING: Could not locate the 'cbc' executable, which is required for solver\n",
      "cbc\n"
     ]
    },
    {
     "ename": "ApplicationError",
     "evalue": "No executable found for solver 'cbc'",
     "output_type": "error",
     "traceback": [
      "\u001b[1;31m---------------------------------------------------------------------------\u001b[0m",
      "\u001b[1;31mApplicationError\u001b[0m                          Traceback (most recent call last)",
      "Cell \u001b[1;32mIn[30], line 41\u001b[0m\n\u001b[0;32m     39\u001b[0m \u001b[38;5;66;03m# Resolver o modelo\u001b[39;00m\n\u001b[0;32m     40\u001b[0m solver \u001b[38;5;241m=\u001b[39m SolverFactory(\u001b[38;5;124m'\u001b[39m\u001b[38;5;124mcbc\u001b[39m\u001b[38;5;124m'\u001b[39m)\n\u001b[1;32m---> 41\u001b[0m results \u001b[38;5;241m=\u001b[39m \u001b[43msolver\u001b[49m\u001b[38;5;241;43m.\u001b[39;49m\u001b[43msolve\u001b[49m\u001b[43m(\u001b[49m\u001b[43mmodel\u001b[49m\u001b[43m)\u001b[49m\n\u001b[0;32m     43\u001b[0m \u001b[38;5;66;03m# Mostrar resultados\u001b[39;00m\n\u001b[0;32m     44\u001b[0m \u001b[38;5;28mprint\u001b[39m(\u001b[38;5;124m\"\u001b[39m\u001b[38;5;124mStatus:\u001b[39m\u001b[38;5;124m\"\u001b[39m, results\u001b[38;5;241m.\u001b[39msolver\u001b[38;5;241m.\u001b[39mtermination_condition)\n",
      "File \u001b[1;32mc:\\Users\\isabe\\Documents\\teste-tecnico-mercado-livre\\.env\\Lib\\site-packages\\pyomo\\opt\\base\\solvers.py:534\u001b[0m, in \u001b[0;36mOptSolver.solve\u001b[1;34m(self, *args, **kwds)\u001b[0m\n\u001b[0;32m    531\u001b[0m \u001b[38;5;28;01mdef\u001b[39;00m \u001b[38;5;21msolve\u001b[39m(\u001b[38;5;28mself\u001b[39m, \u001b[38;5;241m*\u001b[39margs, \u001b[38;5;241m*\u001b[39m\u001b[38;5;241m*\u001b[39mkwds):\n\u001b[0;32m    532\u001b[0m \u001b[38;5;250m    \u001b[39m\u001b[38;5;124;03m\"\"\"Solve the problem\"\"\"\u001b[39;00m\n\u001b[1;32m--> 534\u001b[0m     \u001b[38;5;28;43mself\u001b[39;49m\u001b[38;5;241;43m.\u001b[39;49m\u001b[43mavailable\u001b[49m\u001b[43m(\u001b[49m\u001b[43mexception_flag\u001b[49m\u001b[38;5;241;43m=\u001b[39;49m\u001b[38;5;28;43;01mTrue\u001b[39;49;00m\u001b[43m)\u001b[49m\n\u001b[0;32m    535\u001b[0m     \u001b[38;5;66;03m#\u001b[39;00m\n\u001b[0;32m    536\u001b[0m     \u001b[38;5;66;03m# If the inputs are models, then validate that they have been\u001b[39;00m\n\u001b[0;32m    537\u001b[0m     \u001b[38;5;66;03m# constructed! Collect suffix names to try and import from solution.\u001b[39;00m\n\u001b[0;32m    538\u001b[0m     \u001b[38;5;66;03m#\u001b[39;00m\n\u001b[0;32m    539\u001b[0m     \u001b[38;5;28;01mfrom\u001b[39;00m \u001b[38;5;21;01mpyomo\u001b[39;00m\u001b[38;5;21;01m.\u001b[39;00m\u001b[38;5;21;01mcore\u001b[39;00m\u001b[38;5;21;01m.\u001b[39;00m\u001b[38;5;21;01mbase\u001b[39;00m\u001b[38;5;21;01m.\u001b[39;00m\u001b[38;5;21;01mblock\u001b[39;00m \u001b[38;5;28;01mimport\u001b[39;00m _BlockData\n",
      "File \u001b[1;32mc:\\Users\\isabe\\Documents\\teste-tecnico-mercado-livre\\.env\\Lib\\site-packages\\pyomo\\opt\\solver\\shellcmd.py:139\u001b[0m, in \u001b[0;36mSystemCallSolver.available\u001b[1;34m(self, exception_flag)\u001b[0m\n\u001b[0;32m    137\u001b[0m     \u001b[38;5;28;01mif\u001b[39;00m exception_flag:\n\u001b[0;32m    138\u001b[0m         msg \u001b[38;5;241m=\u001b[39m \u001b[38;5;124m\"\u001b[39m\u001b[38;5;124mNo executable found for solver \u001b[39m\u001b[38;5;124m'\u001b[39m\u001b[38;5;132;01m%s\u001b[39;00m\u001b[38;5;124m'\u001b[39m\u001b[38;5;124m\"\u001b[39m\n\u001b[1;32m--> 139\u001b[0m         \u001b[38;5;28;01mraise\u001b[39;00m ApplicationError(msg \u001b[38;5;241m%\u001b[39m \u001b[38;5;28mself\u001b[39m\u001b[38;5;241m.\u001b[39mname)\n\u001b[0;32m    140\u001b[0m     \u001b[38;5;28;01mreturn\u001b[39;00m \u001b[38;5;28;01mFalse\u001b[39;00m\n\u001b[0;32m    141\u001b[0m \u001b[38;5;28;01mreturn\u001b[39;00m \u001b[38;5;28;01mTrue\u001b[39;00m\n",
      "\u001b[1;31mApplicationError\u001b[0m: No executable found for solver 'cbc'"
     ]
    }
   ],
   "source": [
    "from pyomo.environ import *\n",
    "\n",
    "# Definir dados do problema\n",
    "areas = [\n",
    "    [[1, 5], [2, 3], [3, 2], [4, 1]],\n",
    "    [[8, 3], [5, 4], [2, 7], [1, 6]]\n",
    "]\n",
    "matrix = np.array(areas)\n",
    "a = [5, 10]  # excedente de bicicletas disponíveis\n",
    "s = [1, 2]   # espaço ocupado por cada categoria de bicicleta\n",
    "T = 50      # capacidade total do caminhão\n",
    "\n",
    "model = ConcreteModel()\n",
    "\n",
    "# Índices para as áreas e categorias\n",
    "model.I = Set(initialize=range(matrix.shape[0]))\n",
    "model.J = Set(initialize=range(matrix.shape[2]))\n",
    "\n",
    "# Variáveis de decisão\n",
    "model.x = Var(model.I, model.J, domain=NonNegativeIntegers)\n",
    "\n",
    "# Função objetivo\n",
    "model.profit = Objective(\n",
    "    expr=sum(matrix[i, k, j] * model.x[i, j] for i in model.I for j in model.J for k in range(matrix.shape[1])),\n",
    "    sense=maximize\n",
    ")\n",
    "\n",
    "# Restrições\n",
    "def supply_constraint(model, j):\n",
    "    return sum(model.x[i, j] for i in model.I) <= a[j]\n",
    "\n",
    "model.supply_constraint = Constraint(model.J, rule=supply_constraint)\n",
    "\n",
    "def capacity_constraint(model):\n",
    "    return sum(s[j] * model.x[i, j] for i in model.I for j in model.J) <= T\n",
    "\n",
    "model.capacity_constraint = Constraint(rule=capacity_constraint)\n",
    "\n",
    "# Resolver o modelo\n",
    "solver = SolverFactory('glpk')\n",
    "results = solver.solve(model)\n",
    "\n",
    "# Mostrar resultados\n",
    "print(\"Status:\", results.solver.termination_condition)\n",
    "print(\"Valor objetivo ótimo (soma dos lucros esperados):\", value(model.profit))\n",
    "\n",
    "print(\"\\nSolução ótima:\")\n",
    "for i in model.I:\n",
    "    for j in model.J:\n",
    "        print(f\"Número de bicicletas da categoria {j + 1} a serem movidas para a área {i + 1}: {model.x[i, j].value}\")\n"
   ]
  },
  {
   "cell_type": "code",
   "execution_count": null,
   "metadata": {},
   "outputs": [],
   "source": []
  }
 ],
 "metadata": {
  "kernelspec": {
   "display_name": ".env",
   "language": "python",
   "name": "python3"
  },
  "language_info": {
   "codemirror_mode": {
    "name": "ipython",
    "version": 3
   },
   "file_extension": ".py",
   "mimetype": "text/x-python",
   "name": "python",
   "nbconvert_exporter": "python",
   "pygments_lexer": "ipython3",
   "version": "3.11.1"
  }
 },
 "nbformat": 4,
 "nbformat_minor": 2
}
