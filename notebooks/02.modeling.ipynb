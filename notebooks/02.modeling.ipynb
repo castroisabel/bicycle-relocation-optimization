{
 "cells": [
  {
   "cell_type": "code",
   "execution_count": 3,
   "metadata": {},
   "outputs": [],
   "source": [
    "import numpy as np\n",
    "import pandas as pd \n",
    "path = '../data/processed/'\n",
    "categories = pd.read_csv(path + 'categories.csv')\n",
    "areas = [pd.read_csv(path + 'area' + str(i) + '.csv') for i in range(1, 8)]\n",
    "\n",
    "seed = 42\n",
    "np.random.seed(seed)"
   ]
  },
  {
   "cell_type": "code",
   "execution_count": 15,
   "metadata": {},
   "outputs": [],
   "source": [
    "def expected_profits(categories, area):\n",
    "    profit = pd.DataFrame(columns=categories.columns, index=[0])\n",
    "    number = pd.DataFrame(columns=categories.columns, index=[0])\n",
    "\n",
    "    for column in categories.columns:\n",
    "        number[column] = np.random.randint(0, categories[column][0])\n",
    "        profit[column] = sum(area[column][:number[column][0]])\n",
    "\n",
    "    return number, profit"
   ]
  },
  {
   "cell_type": "code",
   "execution_count": 22,
   "metadata": {},
   "outputs": [],
   "source": [
    "number, profit = expected_profits(categories, areas[0])"
   ]
  },
  {
   "cell_type": "code",
   "execution_count": 23,
   "metadata": {},
   "outputs": [
    {
     "data": {
      "text/html": [
       "<div>\n",
       "<style scoped>\n",
       "    .dataframe tbody tr th:only-of-type {\n",
       "        vertical-align: middle;\n",
       "    }\n",
       "\n",
       "    .dataframe tbody tr th {\n",
       "        vertical-align: top;\n",
       "    }\n",
       "\n",
       "    .dataframe thead th {\n",
       "        text-align: right;\n",
       "    }\n",
       "</style>\n",
       "<table border=\"1\" class=\"dataframe\">\n",
       "  <thead>\n",
       "    <tr style=\"text-align: right;\">\n",
       "      <th></th>\n",
       "      <th>Child</th>\n",
       "      <th>Adult</th>\n",
       "      <th>Electric</th>\n",
       "      <th>Racing</th>\n",
       "      <th>Mountain</th>\n",
       "      <th>Tricycle</th>\n",
       "    </tr>\n",
       "  </thead>\n",
       "  <tbody>\n",
       "    <tr>\n",
       "      <th>0</th>\n",
       "      <td>180</td>\n",
       "      <td>94</td>\n",
       "      <td>98</td>\n",
       "      <td>187</td>\n",
       "      <td>115</td>\n",
       "      <td>190</td>\n",
       "    </tr>\n",
       "  </tbody>\n",
       "</table>\n",
       "</div>"
      ],
      "text/plain": [
       "   Child  Adult  Electric  Racing  Mountain  Tricycle\n",
       "0    180     94        98     187       115       190"
      ]
     },
     "execution_count": 23,
     "metadata": {},
     "output_type": "execute_result"
    }
   ],
   "source": [
    "number"
   ]
  },
  {
   "cell_type": "code",
   "execution_count": 24,
   "metadata": {},
   "outputs": [
    {
     "data": {
      "text/html": [
       "<div>\n",
       "<style scoped>\n",
       "    .dataframe tbody tr th:only-of-type {\n",
       "        vertical-align: middle;\n",
       "    }\n",
       "\n",
       "    .dataframe tbody tr th {\n",
       "        vertical-align: top;\n",
       "    }\n",
       "\n",
       "    .dataframe thead th {\n",
       "        text-align: right;\n",
       "    }\n",
       "</style>\n",
       "<table border=\"1\" class=\"dataframe\">\n",
       "  <thead>\n",
       "    <tr style=\"text-align: right;\">\n",
       "      <th></th>\n",
       "      <th>Child</th>\n",
       "      <th>Adult</th>\n",
       "      <th>Electric</th>\n",
       "      <th>Racing</th>\n",
       "      <th>Mountain</th>\n",
       "      <th>Tricycle</th>\n",
       "    </tr>\n",
       "  </thead>\n",
       "  <tbody>\n",
       "    <tr>\n",
       "      <th>0</th>\n",
       "      <td>2883.8184</td>\n",
       "      <td>2443.4964</td>\n",
       "      <td>2526.9096</td>\n",
       "      <td>2419.5986</td>\n",
       "      <td>2828.5448</td>\n",
       "      <td>2819.265</td>\n",
       "    </tr>\n",
       "  </tbody>\n",
       "</table>\n",
       "</div>"
      ],
      "text/plain": [
       "       Child      Adult   Electric     Racing   Mountain  Tricycle\n",
       "0  2883.8184  2443.4964  2526.9096  2419.5986  2828.5448  2819.265"
      ]
     },
     "execution_count": 24,
     "metadata": {},
     "output_type": "execute_result"
    }
   ],
   "source": [
    "profit"
   ]
  },
  {
   "cell_type": "code",
   "execution_count": 27,
   "metadata": {},
   "outputs": [
    {
     "data": {
      "text/plain": [
       "Child       2487.1421\n",
       "Adult       2573.4510\n",
       "Electric    2526.9096\n",
       "Racing      2253.5354\n",
       "Mountain    2550.4895\n",
       "Tricycle    2606.7449\n",
       "dtype: float64"
      ]
     },
     "execution_count": 27,
     "metadata": {},
     "output_type": "execute_result"
    }
   ],
   "source": [
    "areas[0][:98].sum()"
   ]
  },
  {
   "cell_type": "code",
   "execution_count": 16,
   "metadata": {},
   "outputs": [
    {
     "data": {
      "text/html": [
       "<div>\n",
       "<style scoped>\n",
       "    .dataframe tbody tr th:only-of-type {\n",
       "        vertical-align: middle;\n",
       "    }\n",
       "\n",
       "    .dataframe tbody tr th {\n",
       "        vertical-align: top;\n",
       "    }\n",
       "\n",
       "    .dataframe thead th {\n",
       "        text-align: right;\n",
       "    }\n",
       "</style>\n",
       "<table border=\"1\" class=\"dataframe\">\n",
       "  <thead>\n",
       "    <tr style=\"text-align: right;\">\n",
       "      <th></th>\n",
       "      <th>Child</th>\n",
       "      <th>Adult</th>\n",
       "      <th>Electric</th>\n",
       "      <th>Racing</th>\n",
       "      <th>Mountain</th>\n",
       "      <th>Tricycle</th>\n",
       "    </tr>\n",
       "  </thead>\n",
       "  <tbody>\n",
       "    <tr>\n",
       "      <th>0</th>\n",
       "      <td>272</td>\n",
       "      <td>270.0</td>\n",
       "      <td>279.0</td>\n",
       "      <td>267.0</td>\n",
       "      <td>282.0</td>\n",
       "      <td>279</td>\n",
       "    </tr>\n",
       "    <tr>\n",
       "      <th>1</th>\n",
       "      <td>1</td>\n",
       "      <td>1.5</td>\n",
       "      <td>1.5</td>\n",
       "      <td>1.7</td>\n",
       "      <td>1.7</td>\n",
       "      <td>4</td>\n",
       "    </tr>\n",
       "  </tbody>\n",
       "</table>\n",
       "</div>"
      ],
      "text/plain": [
       "   Child  Adult  Electric  Racing  Mountain  Tricycle\n",
       "0    272  270.0     279.0   267.0     282.0       279\n",
       "1      1    1.5       1.5     1.7       1.7         4"
      ]
     },
     "execution_count": 16,
     "metadata": {},
     "output_type": "execute_result"
    }
   ],
   "source": [
    "categories"
   ]
  },
  {
   "cell_type": "code",
   "execution_count": 37,
   "metadata": {},
   "outputs": [
    {
     "data": {
      "text/html": [
       "<div>\n",
       "<style scoped>\n",
       "    .dataframe tbody tr th:only-of-type {\n",
       "        vertical-align: middle;\n",
       "    }\n",
       "\n",
       "    .dataframe tbody tr th {\n",
       "        vertical-align: top;\n",
       "    }\n",
       "\n",
       "    .dataframe thead th {\n",
       "        text-align: right;\n",
       "    }\n",
       "</style>\n",
       "<table border=\"1\" class=\"dataframe\">\n",
       "  <thead>\n",
       "    <tr style=\"text-align: right;\">\n",
       "      <th></th>\n",
       "      <th>Child</th>\n",
       "      <th>Adult</th>\n",
       "      <th>Electric</th>\n",
       "      <th>Racing</th>\n",
       "      <th>Mountain</th>\n",
       "      <th>Tricycle</th>\n",
       "    </tr>\n",
       "  </thead>\n",
       "  <tbody>\n",
       "    <tr>\n",
       "      <th>0</th>\n",
       "      <td>69</td>\n",
       "      <td>251</td>\n",
       "      <td>274</td>\n",
       "      <td>181</td>\n",
       "      <td>166</td>\n",
       "      <td>90</td>\n",
       "    </tr>\n",
       "    <tr>\n",
       "      <th>1</th>\n",
       "      <td>201</td>\n",
       "      <td>18</td>\n",
       "      <td>38</td>\n",
       "      <td>125</td>\n",
       "      <td>172</td>\n",
       "      <td>140</td>\n",
       "    </tr>\n",
       "    <tr>\n",
       "      <th>2</th>\n",
       "      <td>241</td>\n",
       "      <td>219</td>\n",
       "      <td>125</td>\n",
       "      <td>57</td>\n",
       "      <td>147</td>\n",
       "      <td>0</td>\n",
       "    </tr>\n",
       "    <tr>\n",
       "      <th>3</th>\n",
       "      <td>189</td>\n",
       "      <td>190</td>\n",
       "      <td>116</td>\n",
       "      <td>133</td>\n",
       "      <td>57</td>\n",
       "      <td>43</td>\n",
       "    </tr>\n",
       "    <tr>\n",
       "      <th>4</th>\n",
       "      <td>172</td>\n",
       "      <td>159</td>\n",
       "      <td>172</td>\n",
       "      <td>148</td>\n",
       "      <td>79</td>\n",
       "      <td>212</td>\n",
       "    </tr>\n",
       "    <tr>\n",
       "      <th>5</th>\n",
       "      <td>202</td>\n",
       "      <td>251</td>\n",
       "      <td>228</td>\n",
       "      <td>163</td>\n",
       "      <td>226</td>\n",
       "      <td>146</td>\n",
       "    </tr>\n",
       "    <tr>\n",
       "      <th>6</th>\n",
       "      <td>19</td>\n",
       "      <td>46</td>\n",
       "      <td>232</td>\n",
       "      <td>13</td>\n",
       "      <td>142</td>\n",
       "      <td>0</td>\n",
       "    </tr>\n",
       "  </tbody>\n",
       "</table>\n",
       "</div>"
      ],
      "text/plain": [
       "   Child  Adult  Electric  Racing  Mountain  Tricycle\n",
       "0     69    251       274     181       166        90\n",
       "1    201     18        38     125       172       140\n",
       "2    241    219       125      57       147         0\n",
       "3    189    190       116     133        57        43\n",
       "4    172    159       172     148        79       212\n",
       "5    202    251       228     163       226       146\n",
       "6     19     46       232      13       142         0"
      ]
     },
     "execution_count": 37,
     "metadata": {},
     "output_type": "execute_result"
    }
   ],
   "source": [
    "profit = pd.DataFrame()\n",
    "number = pd.DataFrame()\n",
    "for area in areas:\n",
    "    n, p = expected_profits(categories, area)\n",
    "    number = pd.concat([number, n], ignore_index=True)\n",
    "    profit = pd.concat([profit, p], ignore_index=True)\n",
    "\n",
    "number"
   ]
  },
  {
   "cell_type": "code",
   "execution_count": 38,
   "metadata": {},
   "outputs": [
    {
     "data": {
      "text/html": [
       "<style type=\"text/css\">\n",
       "#T_f796e_row2_col2, #T_f796e_row2_col4, #T_f796e_row3_col0, #T_f796e_row3_col1, #T_f796e_row3_col3, #T_f796e_row5_col5 {\n",
       "  background-color: lightblue;\n",
       "}\n",
       "</style>\n",
       "<table id=\"T_f796e\">\n",
       "  <thead>\n",
       "    <tr>\n",
       "      <th class=\"blank level0\" >&nbsp;</th>\n",
       "      <th id=\"T_f796e_level0_col0\" class=\"col_heading level0 col0\" >Child</th>\n",
       "      <th id=\"T_f796e_level0_col1\" class=\"col_heading level0 col1\" >Adult</th>\n",
       "      <th id=\"T_f796e_level0_col2\" class=\"col_heading level0 col2\" >Electric</th>\n",
       "      <th id=\"T_f796e_level0_col3\" class=\"col_heading level0 col3\" >Racing</th>\n",
       "      <th id=\"T_f796e_level0_col4\" class=\"col_heading level0 col4\" >Mountain</th>\n",
       "      <th id=\"T_f796e_level0_col5\" class=\"col_heading level0 col5\" >Tricycle</th>\n",
       "    </tr>\n",
       "  </thead>\n",
       "  <tbody>\n",
       "    <tr>\n",
       "      <th id=\"T_f796e_level0_row0\" class=\"row_heading level0 row0\" >0</th>\n",
       "      <td id=\"T_f796e_row0_col0\" class=\"data row0 col0\" >1841.298200</td>\n",
       "      <td id=\"T_f796e_row0_col1\" class=\"data row0 col1\" >3070.919100</td>\n",
       "      <td id=\"T_f796e_row0_col2\" class=\"data row0 col2\" >2617.132100</td>\n",
       "      <td id=\"T_f796e_row0_col3\" class=\"data row0 col3\" >2419.598600</td>\n",
       "      <td id=\"T_f796e_row0_col4\" class=\"data row0 col4\" >2828.544800</td>\n",
       "      <td id=\"T_f796e_row0_col5\" class=\"data row0 col5\" >2382.650400</td>\n",
       "    </tr>\n",
       "    <tr>\n",
       "      <th id=\"T_f796e_level0_row1\" class=\"row_heading level0 row1\" >1</th>\n",
       "      <td id=\"T_f796e_row1_col0\" class=\"data row1 col0\" >26.125900</td>\n",
       "      <td id=\"T_f796e_row1_col1\" class=\"data row1 col1\" >10.696000</td>\n",
       "      <td id=\"T_f796e_row1_col2\" class=\"data row1 col2\" >19.685300</td>\n",
       "      <td id=\"T_f796e_row1_col3\" class=\"data row1 col3\" >23.323200</td>\n",
       "      <td id=\"T_f796e_row1_col4\" class=\"data row1 col4\" >30.615700</td>\n",
       "      <td id=\"T_f796e_row1_col5\" class=\"data row1 col5\" >33.536900</td>\n",
       "    </tr>\n",
       "    <tr>\n",
       "      <th id=\"T_f796e_level0_row2\" class=\"row_heading level0 row2\" >2</th>\n",
       "      <td id=\"T_f796e_row2_col0\" class=\"data row2 col0\" >5008.349600</td>\n",
       "      <td id=\"T_f796e_row2_col1\" class=\"data row2 col1\" >4326.755000</td>\n",
       "      <td id=\"T_f796e_row2_col2\" class=\"data row2 col2\" >5323.647800</td>\n",
       "      <td id=\"T_f796e_row2_col3\" class=\"data row2 col3\" >2915.609000</td>\n",
       "      <td id=\"T_f796e_row2_col4\" class=\"data row2 col4\" >5206.926700</td>\n",
       "      <td id=\"T_f796e_row2_col5\" class=\"data row2 col5\" >0.000000</td>\n",
       "    </tr>\n",
       "    <tr>\n",
       "      <th id=\"T_f796e_level0_row3\" class=\"row_heading level0 row3\" >3</th>\n",
       "      <td id=\"T_f796e_row3_col0\" class=\"data row3 col0\" >5261.771900</td>\n",
       "      <td id=\"T_f796e_row3_col1\" class=\"data row3 col1\" >4395.903900</td>\n",
       "      <td id=\"T_f796e_row3_col2\" class=\"data row3 col2\" >3691.215000</td>\n",
       "      <td id=\"T_f796e_row3_col3\" class=\"data row3 col3\" >5011.172900</td>\n",
       "      <td id=\"T_f796e_row3_col4\" class=\"data row3 col4\" >2977.149500</td>\n",
       "      <td id=\"T_f796e_row3_col5\" class=\"data row3 col5\" >2150.051000</td>\n",
       "    </tr>\n",
       "    <tr>\n",
       "      <th id=\"T_f796e_level0_row4\" class=\"row_heading level0 row4\" >4</th>\n",
       "      <td id=\"T_f796e_row4_col0\" class=\"data row4 col0\" >23.428500</td>\n",
       "      <td id=\"T_f796e_row4_col1\" class=\"data row4 col1\" >19.867000</td>\n",
       "      <td id=\"T_f796e_row4_col2\" class=\"data row4 col2\" >24.723000</td>\n",
       "      <td id=\"T_f796e_row4_col3\" class=\"data row4 col3\" >25.357200</td>\n",
       "      <td id=\"T_f796e_row4_col4\" class=\"data row4 col4\" >20.912300</td>\n",
       "      <td id=\"T_f796e_row4_col5\" class=\"data row4 col5\" >23.927400</td>\n",
       "    </tr>\n",
       "    <tr>\n",
       "      <th id=\"T_f796e_level0_row5\" class=\"row_heading level0 row5\" >5</th>\n",
       "      <td id=\"T_f796e_row5_col0\" class=\"data row5 col0\" >3511.388500</td>\n",
       "      <td id=\"T_f796e_row5_col1\" class=\"data row5 col1\" >3750.565500</td>\n",
       "      <td id=\"T_f796e_row5_col2\" class=\"data row5 col2\" >4429.908800</td>\n",
       "      <td id=\"T_f796e_row5_col3\" class=\"data row5 col3\" >3037.062700</td>\n",
       "      <td id=\"T_f796e_row5_col4\" class=\"data row5 col4\" >3450.392300</td>\n",
       "      <td id=\"T_f796e_row5_col5\" class=\"data row5 col5\" >2841.324000</td>\n",
       "    </tr>\n",
       "    <tr>\n",
       "      <th id=\"T_f796e_level0_row6\" class=\"row_heading level0 row6\" >6</th>\n",
       "      <td id=\"T_f796e_row6_col0\" class=\"data row6 col0\" >7.605600</td>\n",
       "      <td id=\"T_f796e_row6_col1\" class=\"data row6 col1\" >27.851000</td>\n",
       "      <td id=\"T_f796e_row6_col2\" class=\"data row6 col2\" >27.583200</td>\n",
       "      <td id=\"T_f796e_row6_col3\" class=\"data row6 col3\" >6.594700</td>\n",
       "      <td id=\"T_f796e_row6_col4\" class=\"data row6 col4\" >30.760100</td>\n",
       "      <td id=\"T_f796e_row6_col5\" class=\"data row6 col5\" >0.000000</td>\n",
       "    </tr>\n",
       "  </tbody>\n",
       "</table>\n"
      ],
      "text/plain": [
       "<pandas.io.formats.style.Styler at 0x24f6572d710>"
      ]
     },
     "execution_count": 38,
     "metadata": {},
     "output_type": "execute_result"
    }
   ],
   "source": [
    "profit.style.highlight_max(color='lightblue', axis=0)"
   ]
  }
 ],
 "metadata": {
  "kernelspec": {
   "display_name": ".env",
   "language": "python",
   "name": "python3"
  },
  "language_info": {
   "codemirror_mode": {
    "name": "ipython",
    "version": 3
   },
   "file_extension": ".py",
   "mimetype": "text/x-python",
   "name": "python",
   "nbconvert_exporter": "python",
   "pygments_lexer": "ipython3",
   "version": "3.11.1"
  }
 },
 "nbformat": 4,
 "nbformat_minor": 2
}
