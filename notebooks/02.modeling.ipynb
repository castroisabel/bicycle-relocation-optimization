{
 "cells": [
  {
   "cell_type": "code",
   "execution_count": 13,
   "metadata": {},
   "outputs": [],
   "source": [
    "import numpy as np\n",
    "import pandas as pd \n",
    "path = '../data/processed/'\n",
    "categories = pd.read_csv(path + 'categories.csv')\n",
    "areas = [pd.read_csv(path + 'area' + str(i) + '.csv') for i in range(1, 8)]\n",
    "\n",
    "seed = 42\n",
    "np.random.seed(seed)"
   ]
  },
  {
   "cell_type": "code",
   "execution_count": 14,
   "metadata": {},
   "outputs": [
    {
     "data": {
      "text/html": [
       "<div>\n",
       "<style scoped>\n",
       "    .dataframe tbody tr th:only-of-type {\n",
       "        vertical-align: middle;\n",
       "    }\n",
       "\n",
       "    .dataframe tbody tr th {\n",
       "        vertical-align: top;\n",
       "    }\n",
       "\n",
       "    .dataframe thead th {\n",
       "        text-align: right;\n",
       "    }\n",
       "</style>\n",
       "<table border=\"1\" class=\"dataframe\">\n",
       "  <thead>\n",
       "    <tr style=\"text-align: right;\">\n",
       "      <th></th>\n",
       "      <th>Child</th>\n",
       "      <th>Adult</th>\n",
       "      <th>Electric</th>\n",
       "      <th>Racing</th>\n",
       "      <th>Mountain</th>\n",
       "      <th>Tricycle</th>\n",
       "    </tr>\n",
       "  </thead>\n",
       "  <tbody>\n",
       "    <tr>\n",
       "      <th>0</th>\n",
       "      <td>272</td>\n",
       "      <td>270.0</td>\n",
       "      <td>279.0</td>\n",
       "      <td>267.0</td>\n",
       "      <td>282.0</td>\n",
       "      <td>279</td>\n",
       "    </tr>\n",
       "    <tr>\n",
       "      <th>1</th>\n",
       "      <td>1</td>\n",
       "      <td>1.5</td>\n",
       "      <td>1.5</td>\n",
       "      <td>1.7</td>\n",
       "      <td>1.7</td>\n",
       "      <td>4</td>\n",
       "    </tr>\n",
       "  </tbody>\n",
       "</table>\n",
       "</div>"
      ],
      "text/plain": [
       "   Child  Adult  Electric  Racing  Mountain  Tricycle\n",
       "0    272  270.0     279.0   267.0     282.0       279\n",
       "1      1    1.5       1.5     1.7       1.7         4"
      ]
     },
     "execution_count": 14,
     "metadata": {},
     "output_type": "execute_result"
    }
   ],
   "source": [
    "categories"
   ]
  },
  {
   "cell_type": "code",
   "execution_count": 15,
   "metadata": {},
   "outputs": [],
   "source": [
    "def expected_profits(categories, area):\n",
    "    profit = pd.DataFrame(columns=categories.columns, index=[0])\n",
    "    number = pd.DataFrame(columns=categories.columns, index=[0])\n",
    "\n",
    "    for column in categories.columns:\n",
    "        number[column] = np.random.randint(0, categories[column][0]-250)\n",
    "        profit[column] = sum(area[column][:number[column][0]])\n",
    "\n",
    "    return number, profit"
   ]
  },
  {
   "cell_type": "code",
   "execution_count": 16,
   "metadata": {},
   "outputs": [],
   "source": [
    "number, profit = expected_profits(categories, areas[0])"
   ]
  },
  {
   "cell_type": "code",
   "execution_count": 17,
   "metadata": {},
   "outputs": [
    {
     "data": {
      "text/html": [
       "<div>\n",
       "<style scoped>\n",
       "    .dataframe tbody tr th:only-of-type {\n",
       "        vertical-align: middle;\n",
       "    }\n",
       "\n",
       "    .dataframe tbody tr th {\n",
       "        vertical-align: top;\n",
       "    }\n",
       "\n",
       "    .dataframe thead th {\n",
       "        text-align: right;\n",
       "    }\n",
       "</style>\n",
       "<table border=\"1\" class=\"dataframe\">\n",
       "  <thead>\n",
       "    <tr style=\"text-align: right;\">\n",
       "      <th></th>\n",
       "      <th>Child</th>\n",
       "      <th>Adult</th>\n",
       "      <th>Electric</th>\n",
       "      <th>Racing</th>\n",
       "      <th>Mountain</th>\n",
       "      <th>Tricycle</th>\n",
       "    </tr>\n",
       "  </thead>\n",
       "  <tbody>\n",
       "    <tr>\n",
       "      <th>0</th>\n",
       "      <td>6</td>\n",
       "      <td>19</td>\n",
       "      <td>28</td>\n",
       "      <td>14</td>\n",
       "      <td>10</td>\n",
       "      <td>7</td>\n",
       "    </tr>\n",
       "  </tbody>\n",
       "</table>\n",
       "</div>"
      ],
      "text/plain": [
       "   Child  Adult  Electric  Racing  Mountain  Tricycle\n",
       "0      6     19        28      14        10         7"
      ]
     },
     "execution_count": 17,
     "metadata": {},
     "output_type": "execute_result"
    }
   ],
   "source": [
    "number"
   ]
  },
  {
   "cell_type": "code",
   "execution_count": 18,
   "metadata": {},
   "outputs": [
    {
     "data": {
      "text/html": [
       "<div>\n",
       "<style scoped>\n",
       "    .dataframe tbody tr th:only-of-type {\n",
       "        vertical-align: middle;\n",
       "    }\n",
       "\n",
       "    .dataframe tbody tr th {\n",
       "        vertical-align: top;\n",
       "    }\n",
       "\n",
       "    .dataframe thead th {\n",
       "        text-align: right;\n",
       "    }\n",
       "</style>\n",
       "<table border=\"1\" class=\"dataframe\">\n",
       "  <thead>\n",
       "    <tr style=\"text-align: right;\">\n",
       "      <th></th>\n",
       "      <th>Child</th>\n",
       "      <th>Adult</th>\n",
       "      <th>Electric</th>\n",
       "      <th>Racing</th>\n",
       "      <th>Mountain</th>\n",
       "      <th>Tricycle</th>\n",
       "    </tr>\n",
       "  </thead>\n",
       "  <tbody>\n",
       "    <tr>\n",
       "      <th>0</th>\n",
       "      <td>218.5638</td>\n",
       "      <td>447.6968</td>\n",
       "      <td>664.9274</td>\n",
       "      <td>408.661</td>\n",
       "      <td>236.7164</td>\n",
       "      <td>207.0703</td>\n",
       "    </tr>\n",
       "  </tbody>\n",
       "</table>\n",
       "</div>"
      ],
      "text/plain": [
       "      Child     Adult  Electric   Racing  Mountain  Tricycle\n",
       "0  218.5638  447.6968  664.9274  408.661  236.7164  207.0703"
      ]
     },
     "execution_count": 18,
     "metadata": {},
     "output_type": "execute_result"
    }
   ],
   "source": [
    "profit"
   ]
  },
  {
   "cell_type": "code",
   "execution_count": 19,
   "metadata": {},
   "outputs": [
    {
     "data": {
      "text/plain": [
       "Child       613.3544\n",
       "Adult       474.5669\n",
       "Electric    542.4898\n",
       "Racing      515.1509\n",
       "Mountain    501.1026\n",
       "Tricycle    613.2416\n",
       "dtype: float64"
      ]
     },
     "execution_count": 19,
     "metadata": {},
     "output_type": "execute_result"
    }
   ],
   "source": [
    "areas[0][:20].sum()"
   ]
  },
  {
   "cell_type": "code",
   "execution_count": 20,
   "metadata": {},
   "outputs": [
    {
     "data": {
      "text/html": [
       "<div>\n",
       "<style scoped>\n",
       "    .dataframe tbody tr th:only-of-type {\n",
       "        vertical-align: middle;\n",
       "    }\n",
       "\n",
       "    .dataframe tbody tr th {\n",
       "        vertical-align: top;\n",
       "    }\n",
       "\n",
       "    .dataframe thead th {\n",
       "        text-align: right;\n",
       "    }\n",
       "</style>\n",
       "<table border=\"1\" class=\"dataframe\">\n",
       "  <thead>\n",
       "    <tr style=\"text-align: right;\">\n",
       "      <th></th>\n",
       "      <th>Child</th>\n",
       "      <th>Adult</th>\n",
       "      <th>Electric</th>\n",
       "      <th>Racing</th>\n",
       "      <th>Mountain</th>\n",
       "      <th>Tricycle</th>\n",
       "    </tr>\n",
       "  </thead>\n",
       "  <tbody>\n",
       "    <tr>\n",
       "      <th>0</th>\n",
       "      <td>272</td>\n",
       "      <td>270.0</td>\n",
       "      <td>279.0</td>\n",
       "      <td>267.0</td>\n",
       "      <td>282.0</td>\n",
       "      <td>279</td>\n",
       "    </tr>\n",
       "    <tr>\n",
       "      <th>1</th>\n",
       "      <td>1</td>\n",
       "      <td>1.5</td>\n",
       "      <td>1.5</td>\n",
       "      <td>1.7</td>\n",
       "      <td>1.7</td>\n",
       "      <td>4</td>\n",
       "    </tr>\n",
       "  </tbody>\n",
       "</table>\n",
       "</div>"
      ],
      "text/plain": [
       "   Child  Adult  Electric  Racing  Mountain  Tricycle\n",
       "0    272  270.0     279.0   267.0     282.0       279\n",
       "1      1    1.5       1.5     1.7       1.7         4"
      ]
     },
     "execution_count": 20,
     "metadata": {},
     "output_type": "execute_result"
    }
   ],
   "source": [
    "categories"
   ]
  },
  {
   "cell_type": "code",
   "execution_count": 21,
   "metadata": {},
   "outputs": [
    {
     "data": {
      "text/html": [
       "<div>\n",
       "<style scoped>\n",
       "    .dataframe tbody tr th:only-of-type {\n",
       "        vertical-align: middle;\n",
       "    }\n",
       "\n",
       "    .dataframe tbody tr th {\n",
       "        vertical-align: top;\n",
       "    }\n",
       "\n",
       "    .dataframe thead th {\n",
       "        text-align: right;\n",
       "    }\n",
       "</style>\n",
       "<table border=\"1\" class=\"dataframe\">\n",
       "  <thead>\n",
       "    <tr style=\"text-align: right;\">\n",
       "      <th></th>\n",
       "      <th>Child</th>\n",
       "      <th>Adult</th>\n",
       "      <th>Electric</th>\n",
       "      <th>Racing</th>\n",
       "      <th>Mountain</th>\n",
       "      <th>Tricycle</th>\n",
       "    </tr>\n",
       "  </thead>\n",
       "  <tbody>\n",
       "    <tr>\n",
       "      <th>0</th>\n",
       "      <td>20</td>\n",
       "      <td>6</td>\n",
       "      <td>25</td>\n",
       "      <td>10</td>\n",
       "      <td>10</td>\n",
       "      <td>23</td>\n",
       "    </tr>\n",
       "    <tr>\n",
       "      <th>1</th>\n",
       "      <td>20</td>\n",
       "      <td>3</td>\n",
       "      <td>7</td>\n",
       "      <td>2</td>\n",
       "      <td>21</td>\n",
       "      <td>20</td>\n",
       "    </tr>\n",
       "    <tr>\n",
       "      <th>2</th>\n",
       "      <td>1</td>\n",
       "      <td>11</td>\n",
       "      <td>5</td>\n",
       "      <td>1</td>\n",
       "      <td>31</td>\n",
       "      <td>27</td>\n",
       "    </tr>\n",
       "    <tr>\n",
       "      <th>3</th>\n",
       "      <td>20</td>\n",
       "      <td>0</td>\n",
       "      <td>11</td>\n",
       "      <td>11</td>\n",
       "      <td>24</td>\n",
       "      <td>16</td>\n",
       "    </tr>\n",
       "    <tr>\n",
       "      <th>4</th>\n",
       "      <td>9</td>\n",
       "      <td>15</td>\n",
       "      <td>14</td>\n",
       "      <td>14</td>\n",
       "      <td>29</td>\n",
       "      <td>18</td>\n",
       "    </tr>\n",
       "    <tr>\n",
       "      <th>5</th>\n",
       "      <td>11</td>\n",
       "      <td>19</td>\n",
       "      <td>24</td>\n",
       "      <td>2</td>\n",
       "      <td>4</td>\n",
       "      <td>18</td>\n",
       "    </tr>\n",
       "    <tr>\n",
       "      <th>6</th>\n",
       "      <td>6</td>\n",
       "      <td>8</td>\n",
       "      <td>6</td>\n",
       "      <td>3</td>\n",
       "      <td>24</td>\n",
       "      <td>27</td>\n",
       "    </tr>\n",
       "  </tbody>\n",
       "</table>\n",
       "</div>"
      ],
      "text/plain": [
       "   Child  Adult  Electric  Racing  Mountain  Tricycle\n",
       "0     20      6        25      10        10        23\n",
       "1     20      3         7       2        21        20\n",
       "2      1     11         5       1        31        27\n",
       "3     20      0        11      11        24        16\n",
       "4      9     15        14      14        29        18\n",
       "5     11     19        24       2         4        18\n",
       "6      6      8         6       3        24        27"
      ]
     },
     "execution_count": 21,
     "metadata": {},
     "output_type": "execute_result"
    }
   ],
   "source": [
    "profit = pd.DataFrame()\n",
    "number = pd.DataFrame()\n",
    "for area in areas:\n",
    "    n, p = expected_profits(categories, area)\n",
    "    number = pd.concat([number, n], ignore_index=True)\n",
    "    profit = pd.concat([profit, p], ignore_index=True)\n",
    "\n",
    "number"
   ]
  },
  {
   "cell_type": "code",
   "execution_count": 22,
   "metadata": {},
   "outputs": [
    {
     "data": {
      "text/html": [
       "<style type=\"text/css\">\n",
       "#T_cb849_row2_col4, #T_cb849_row2_col5, #T_cb849_row3_col0, #T_cb849_row3_col3, #T_cb849_row5_col1, #T_cb849_row5_col2 {\n",
       "  background-color: lightblue;\n",
       "}\n",
       "</style>\n",
       "<table id=\"T_cb849\">\n",
       "  <thead>\n",
       "    <tr>\n",
       "      <th class=\"blank level0\" >&nbsp;</th>\n",
       "      <th id=\"T_cb849_level0_col0\" class=\"col_heading level0 col0\" >Child</th>\n",
       "      <th id=\"T_cb849_level0_col1\" class=\"col_heading level0 col1\" >Adult</th>\n",
       "      <th id=\"T_cb849_level0_col2\" class=\"col_heading level0 col2\" >Electric</th>\n",
       "      <th id=\"T_cb849_level0_col3\" class=\"col_heading level0 col3\" >Racing</th>\n",
       "      <th id=\"T_cb849_level0_col4\" class=\"col_heading level0 col4\" >Mountain</th>\n",
       "      <th id=\"T_cb849_level0_col5\" class=\"col_heading level0 col5\" >Tricycle</th>\n",
       "    </tr>\n",
       "  </thead>\n",
       "  <tbody>\n",
       "    <tr>\n",
       "      <th id=\"T_cb849_level0_row0\" class=\"row_heading level0 row0\" >0</th>\n",
       "      <td id=\"T_cb849_row0_col0\" class=\"data row0 col0\" >613.354400</td>\n",
       "      <td id=\"T_cb849_row0_col1\" class=\"data row0 col1\" >134.541600</td>\n",
       "      <td id=\"T_cb849_row0_col2\" class=\"data row0 col2\" >630.023500</td>\n",
       "      <td id=\"T_cb849_row0_col3\" class=\"data row0 col3\" >310.991100</td>\n",
       "      <td id=\"T_cb849_row0_col4\" class=\"data row0 col4\" >236.716400</td>\n",
       "      <td id=\"T_cb849_row0_col5\" class=\"data row0 col5\" >720.588100</td>\n",
       "    </tr>\n",
       "    <tr>\n",
       "      <th id=\"T_cb849_level0_row1\" class=\"row_heading level0 row1\" >1</th>\n",
       "      <td id=\"T_cb849_row1_col0\" class=\"data row1 col0\" >8.784400</td>\n",
       "      <td id=\"T_cb849_row1_col1\" class=\"data row1 col1\" >1.327200</td>\n",
       "      <td id=\"T_cb849_row1_col2\" class=\"data row1 col2\" >2.370200</td>\n",
       "      <td id=\"T_cb849_row1_col3\" class=\"data row1 col3\" >1.111100</td>\n",
       "      <td id=\"T_cb849_row1_col4\" class=\"data row1 col4\" >9.217400</td>\n",
       "      <td id=\"T_cb849_row1_col5\" class=\"data row1 col5\" >10.130600</td>\n",
       "    </tr>\n",
       "    <tr>\n",
       "      <th id=\"T_cb849_level0_row2\" class=\"row_heading level0 row2\" >2</th>\n",
       "      <td id=\"T_cb849_row2_col0\" class=\"data row2 col0\" >95.549800</td>\n",
       "      <td id=\"T_cb849_row2_col1\" class=\"data row2 col1\" >463.011300</td>\n",
       "      <td id=\"T_cb849_row2_col2\" class=\"data row2 col2\" >132.162200</td>\n",
       "      <td id=\"T_cb849_row2_col3\" class=\"data row2 col3\" >0.298200</td>\n",
       "      <td id=\"T_cb849_row2_col4\" class=\"data row2 col4\" >1554.874200</td>\n",
       "      <td id=\"T_cb849_row2_col5\" class=\"data row2 col5\" >1244.633600</td>\n",
       "    </tr>\n",
       "    <tr>\n",
       "      <th id=\"T_cb849_level0_row3\" class=\"row_heading level0 row3\" >3</th>\n",
       "      <td id=\"T_cb849_row3_col0\" class=\"data row3 col0\" >908.592500</td>\n",
       "      <td id=\"T_cb849_row3_col1\" class=\"data row3 col1\" >0.000000</td>\n",
       "      <td id=\"T_cb849_row3_col2\" class=\"data row3 col2\" >445.824700</td>\n",
       "      <td id=\"T_cb849_row3_col3\" class=\"data row3 col3\" >520.178500</td>\n",
       "      <td id=\"T_cb849_row3_col4\" class=\"data row3 col4\" >1301.003400</td>\n",
       "      <td id=\"T_cb849_row3_col5\" class=\"data row3 col5\" >815.468000</td>\n",
       "    </tr>\n",
       "    <tr>\n",
       "      <th id=\"T_cb849_level0_row4\" class=\"row_heading level0 row4\" >4</th>\n",
       "      <td id=\"T_cb849_row4_col0\" class=\"data row4 col0\" >4.177200</td>\n",
       "      <td id=\"T_cb849_row4_col1\" class=\"data row4 col1\" >7.887700</td>\n",
       "      <td id=\"T_cb849_row4_col2\" class=\"data row4 col2\" >7.410200</td>\n",
       "      <td id=\"T_cb849_row4_col3\" class=\"data row4 col3\" >6.563400</td>\n",
       "      <td id=\"T_cb849_row4_col4\" class=\"data row4 col4\" >13.243400</td>\n",
       "      <td id=\"T_cb849_row4_col5\" class=\"data row4 col5\" >9.573300</td>\n",
       "    </tr>\n",
       "    <tr>\n",
       "      <th id=\"T_cb849_level0_row5\" class=\"row_heading level0 row5\" >5</th>\n",
       "      <td id=\"T_cb849_row5_col0\" class=\"data row5 col0\" >439.308400</td>\n",
       "      <td id=\"T_cb849_row5_col1\" class=\"data row5 col1\" >855.839600</td>\n",
       "      <td id=\"T_cb849_row5_col2\" class=\"data row5 col2\" >994.426100</td>\n",
       "      <td id=\"T_cb849_row5_col3\" class=\"data row5 col3\" >59.267900</td>\n",
       "      <td id=\"T_cb849_row5_col4\" class=\"data row5 col4\" >206.320900</td>\n",
       "      <td id=\"T_cb849_row5_col5\" class=\"data row5 col5\" >713.633400</td>\n",
       "    </tr>\n",
       "    <tr>\n",
       "      <th id=\"T_cb849_level0_row6\" class=\"row_heading level0 row6\" >6</th>\n",
       "      <td id=\"T_cb849_row6_col0\" class=\"data row6 col0\" >2.085700</td>\n",
       "      <td id=\"T_cb849_row6_col1\" class=\"data row6 col1\" >5.092900</td>\n",
       "      <td id=\"T_cb849_row6_col2\" class=\"data row6 col2\" >1.697700</td>\n",
       "      <td id=\"T_cb849_row6_col3\" class=\"data row6 col3\" >1.444100</td>\n",
       "      <td id=\"T_cb849_row6_col4\" class=\"data row6 col4\" >12.847200</td>\n",
       "      <td id=\"T_cb849_row6_col5\" class=\"data row6 col5\" >12.949800</td>\n",
       "    </tr>\n",
       "  </tbody>\n",
       "</table>\n"
      ],
      "text/plain": [
       "<pandas.io.formats.style.Styler at 0x12a47581850>"
      ]
     },
     "execution_count": 22,
     "metadata": {},
     "output_type": "execute_result"
    }
   ],
   "source": [
    "profit.style.highlight_max(color='lightblue', axis=0)"
   ]
  },
  {
   "cell_type": "code",
   "execution_count": 23,
   "metadata": {},
   "outputs": [
    {
     "name": "stdout",
     "output_type": "stream",
     "text": [
      "Lucro: 13514.521299999999\n"
     ]
    }
   ],
   "source": [
    "print(f'Lucro: {profit.sum().sum()}')"
   ]
  },
  {
   "cell_type": "code",
   "execution_count": 34,
   "metadata": {},
   "outputs": [
    {
     "name": "stdout",
     "output_type": "stream",
     "text": [
      "Capacidade: 1230.2\n"
     ]
    }
   ],
   "source": [
    "capacidade = np.sum(np.sum(number.values * categories.iloc[1].values, axis=1))\n",
    "print(f'Capacidade: {capacidade}')"
   ]
  },
  {
   "cell_type": "code",
   "execution_count": null,
   "metadata": {},
   "outputs": [],
   "source": []
  }
 ],
 "metadata": {
  "kernelspec": {
   "display_name": ".env",
   "language": "python",
   "name": "python3"
  },
  "language_info": {
   "codemirror_mode": {
    "name": "ipython",
    "version": 3
   },
   "file_extension": ".py",
   "mimetype": "text/x-python",
   "name": "python",
   "nbconvert_exporter": "python",
   "pygments_lexer": "ipython3",
   "version": "3.11.1"
  }
 },
 "nbformat": 4,
 "nbformat_minor": 2
}
