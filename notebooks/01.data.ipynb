{
 "cells": [
  {
   "cell_type": "markdown",
   "metadata": {},
   "source": [
    "### 1 - Reading data"
   ]
  },
  {
   "cell_type": "code",
   "execution_count": 1,
   "metadata": {},
   "outputs": [],
   "source": [
    "import numpy as np\n",
    "import pandas as pd\n",
    "path = '../data/BicyclesRelocationData.xlsx'\n",
    "sheets = pd.read_excel(path, sheet_name=None)"
   ]
  },
  {
   "cell_type": "code",
   "execution_count": 2,
   "metadata": {},
   "outputs": [],
   "source": [
    "categories = sheets['Categories']\n",
    "areas = [sheets['ExpectedProfitsArea' + str(i)] for i in range(1, 8)]"
   ]
  },
  {
   "cell_type": "markdown",
   "metadata": {},
   "source": [
    "### 2 -  Data Exploration"
   ]
  },
  {
   "cell_type": "code",
   "execution_count": 3,
   "metadata": {},
   "outputs": [
    {
     "data": {
      "text/html": [
       "<style type=\"text/css\">\n",
       "#T_6f3eb_row0_col4, #T_6f3eb_row1_col5 {\n",
       "  background-color: lightblue;\n",
       "}\n",
       "</style>\n",
       "<table id=\"T_6f3eb\">\n",
       "  <thead>\n",
       "    <tr>\n",
       "      <th class=\"blank level0\" >&nbsp;</th>\n",
       "      <th id=\"T_6f3eb_level0_col0\" class=\"col_heading level0 col0\" >Child</th>\n",
       "      <th id=\"T_6f3eb_level0_col1\" class=\"col_heading level0 col1\" >Adult</th>\n",
       "      <th id=\"T_6f3eb_level0_col2\" class=\"col_heading level0 col2\" >Electric</th>\n",
       "      <th id=\"T_6f3eb_level0_col3\" class=\"col_heading level0 col3\" >Racing</th>\n",
       "      <th id=\"T_6f3eb_level0_col4\" class=\"col_heading level0 col4\" >Mountain</th>\n",
       "      <th id=\"T_6f3eb_level0_col5\" class=\"col_heading level0 col5\" >Tricycle</th>\n",
       "    </tr>\n",
       "  </thead>\n",
       "  <tbody>\n",
       "    <tr>\n",
       "      <th id=\"T_6f3eb_level0_row0\" class=\"row_heading level0 row0\" >0</th>\n",
       "      <td id=\"T_6f3eb_row0_col0\" class=\"data row0 col0\" >272</td>\n",
       "      <td id=\"T_6f3eb_row0_col1\" class=\"data row0 col1\" >270.000000</td>\n",
       "      <td id=\"T_6f3eb_row0_col2\" class=\"data row0 col2\" >279.000000</td>\n",
       "      <td id=\"T_6f3eb_row0_col3\" class=\"data row0 col3\" >267.000000</td>\n",
       "      <td id=\"T_6f3eb_row0_col4\" class=\"data row0 col4\" >282.000000</td>\n",
       "      <td id=\"T_6f3eb_row0_col5\" class=\"data row0 col5\" >279</td>\n",
       "    </tr>\n",
       "    <tr>\n",
       "      <th id=\"T_6f3eb_level0_row1\" class=\"row_heading level0 row1\" >1</th>\n",
       "      <td id=\"T_6f3eb_row1_col0\" class=\"data row1 col0\" >1</td>\n",
       "      <td id=\"T_6f3eb_row1_col1\" class=\"data row1 col1\" >1.500000</td>\n",
       "      <td id=\"T_6f3eb_row1_col2\" class=\"data row1 col2\" >1.500000</td>\n",
       "      <td id=\"T_6f3eb_row1_col3\" class=\"data row1 col3\" >1.700000</td>\n",
       "      <td id=\"T_6f3eb_row1_col4\" class=\"data row1 col4\" >1.700000</td>\n",
       "      <td id=\"T_6f3eb_row1_col5\" class=\"data row1 col5\" >4</td>\n",
       "    </tr>\n",
       "  </tbody>\n",
       "</table>\n"
      ],
      "text/plain": [
       "<pandas.io.formats.style.Styler at 0x108bc02b0>"
      ]
     },
     "execution_count": 3,
     "metadata": {},
     "output_type": "execute_result"
    }
   ],
   "source": [
    "categories.style.highlight_max(color='lightblue', axis=1)"
   ]
  },
  {
   "cell_type": "code",
   "execution_count": 4,
   "metadata": {},
   "outputs": [
    {
     "name": "stdout",
     "output_type": "stream",
     "text": [
      "Area 1\n",
      "Shape: (115, 6)\n",
      "Missing values: 36\n",
      "\n",
      "Area 2\n",
      "Shape: (71, 6)\n",
      "Missing values: 57\n",
      "\n",
      "Area 3\n",
      "Shape: (111, 6)\n",
      "Missing values: 60\n",
      "\n",
      "Area 4\n",
      "Shape: (109, 6)\n",
      "Missing values: 52\n",
      "\n",
      "Area 5\n",
      "Shape: (49, 6)\n",
      "Missing values: 24\n",
      "\n",
      "Area 6\n",
      "Shape: (97, 6)\n",
      "Missing values: 95\n",
      "\n",
      "Area 7\n",
      "Shape: (59, 6)\n",
      "Missing values: 21\n",
      "\n"
     ]
    }
   ],
   "source": [
    "def print_summary(df):\n",
    "    print(f'Shape: {df.shape}')\n",
    "    print(f'Missing values: {df.isnull().sum().sum()}')\n",
    "\n",
    "for index, area in enumerate(areas):\n",
    "    print(f'Area {index + 1}')\n",
    "    print_summary(area)\n",
    "    print('')"
   ]
  },
  {
   "cell_type": "markdown",
   "metadata": {},
   "source": [
    "### 3 -  Data Process"
   ]
  },
  {
   "cell_type": "code",
   "execution_count": 5,
   "metadata": {},
   "outputs": [
    {
     "name": "stdout",
     "output_type": "stream",
     "text": [
      "Area 1\n",
      "Shape: (115, 6)\n",
      "Missing values: 36\n",
      "\n",
      "Area 2\n",
      "Shape: (115, 6)\n",
      "Missing values: 321\n",
      "\n",
      "Area 3\n",
      "Shape: (115, 6)\n",
      "Missing values: 84\n",
      "\n",
      "Area 4\n",
      "Shape: (115, 6)\n",
      "Missing values: 88\n",
      "\n",
      "Area 5\n",
      "Shape: (115, 6)\n",
      "Missing values: 420\n",
      "\n",
      "Area 6\n",
      "Shape: (115, 6)\n",
      "Missing values: 203\n",
      "\n",
      "Area 7\n",
      "Shape: (115, 6)\n",
      "Missing values: 357\n",
      "\n"
     ]
    }
   ],
   "source": [
    "#areas.fillna(0, inplace=True) # fill missing values with 0\n",
    "max_rows = max(area.shape[0] for area in areas)\n",
    "filled_areas = [area.reindex(range(max_rows), fill_value=np.nan) for area in areas]\n",
    "\n",
    "for index, area in enumerate(filled_areas):\n",
    "    print(f'Area {index + 1}')\n",
    "    print_summary(area)\n",
    "    area.fillna(0, inplace=True)\n",
    "    print('')"
   ]
  },
  {
   "cell_type": "markdown",
   "metadata": {},
   "source": [
    "### 4 -  Saving Data"
   ]
  },
  {
   "cell_type": "code",
   "execution_count": 6,
   "metadata": {},
   "outputs": [],
   "source": [
    "path = '../data/processed/'\n",
    "categories.to_csv(f'{path}categories.csv', index=False)\n",
    "for index, area in enumerate(filled_areas):\n",
    "    area.to_csv(f'{path}area{index + 1}.csv', index=False)"
   ]
  }
 ],
 "metadata": {
  "kernelspec": {
   "display_name": ".env",
   "language": "python",
   "name": "python3"
  },
  "language_info": {
   "codemirror_mode": {
    "name": "ipython",
    "version": 3
   },
   "file_extension": ".py",
   "mimetype": "text/x-python",
   "name": "python",
   "nbconvert_exporter": "python",
   "pygments_lexer": "ipython3",
   "version": "3.9.6"
  }
 },
 "nbformat": 4,
 "nbformat_minor": 2
}
