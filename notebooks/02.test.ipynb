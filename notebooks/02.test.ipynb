{
 "cells": [
  {
   "cell_type": "markdown",
   "metadata": {},
   "source": [
    "### 1 - Test Example"
   ]
  },
  {
   "cell_type": "code",
   "execution_count": 1,
   "metadata": {},
   "outputs": [],
   "source": [
    "import numpy as np\n",
    "import pyomo.environ as pyEnv"
   ]
  },
  {
   "cell_type": "code",
   "execution_count": 2,
   "metadata": {},
   "outputs": [
    {
     "name": "stdout",
     "output_type": "stream",
     "text": [
      "Status: optimal\n",
      "Valor objetivo ótimo (soma dos lucros esperados): 56.0\n",
      "\n",
      "Solução ótima:\n",
      "(0, 0, 0): 1.0\n",
      "(0, 0, 1): 1.0\n",
      "(0, 0, 2): 1.0\n",
      "(0, 0, 3): 1.0\n",
      "(0, 1, 0): 1.0\n",
      "(0, 1, 1): 1.0\n",
      "(0, 1, 2): 1.0\n",
      "(0, 1, 3): 1.0\n",
      "(1, 0, 0): 1.0\n",
      "(1, 0, 1): 1.0\n",
      "(1, 0, 2): 1.0\n",
      "(1, 0, 3): 0.0\n",
      "(1, 1, 0): 1.0\n",
      "(1, 1, 1): 1.0\n",
      "(1, 1, 2): 1.0\n",
      "(1, 1, 3): 1.0\n"
     ]
    }
   ],
   "source": [
    "# dados falsos\n",
    "areas = [\n",
    "    [[1, 2, 3, 4], [5, 3, 2, 1]],\n",
    "    [[8, 5, 2, 1], [3, 4, 7, 6]]\n",
    "]\n",
    "matrix = np.array(areas)\n",
    "a = [8, 8]  # excedente de bicicletas disponíveis\n",
    "s = [1, 1]   # espaço ocupado por cada categoria de bicicleta\n",
    "T = 15      # capacidade total do caminhão\n",
    "\n",
    "model = pyEnv.ConcreteModel()\n",
    "\n",
    "# índices para as áreas e categorias\n",
    "model.I = pyEnv.Set(initialize=range(matrix.shape[0]))\n",
    "model.J = pyEnv.Set(initialize=range(matrix.shape[1]))\n",
    "model.K = pyEnv.Set(initialize=range(matrix.shape[2]))\n",
    "\n",
    "# variáveis de decisão\n",
    "model.x = pyEnv.Var(model.I, model.J, model.K, domain=pyEnv.Binary, initialize=0)\n",
    "\n",
    "# função objetivo\n",
    "model.profit = pyEnv.Objective(\n",
    "    expr=sum(matrix[i, j, k] * model.x[i,j, k] for i in model.I for j in model.J for k in model.K),\n",
    "    sense=pyEnv.maximize\n",
    ")\n",
    "\n",
    "# restrições\n",
    "def supply_constraint(model, j):\n",
    "    return sum(model.x[i, j, k] for i in model.I for k in model.K) <= a[j]\n",
    "\n",
    "model.supply_constraint = pyEnv.Constraint(model.J, rule=supply_constraint)\n",
    "\n",
    "def capacity_constraint(model):\n",
    "    return sum(s[j] * model.x[i, j, k] for i in model.I for j in model.J for k in model.K) <= T\n",
    "\n",
    "model.capacity_constraint = pyEnv.Constraint(rule=capacity_constraint)\n",
    "\n",
    "# adicionar restrição condicional\n",
    "def sequential_constraint_rule(model, i, j, k):\n",
    "    if k == 0:\n",
    "        return pyEnv.Constraint.Skip\n",
    "    else:\n",
    "        return model.x[i, j, k] <= model.x[i, j, k-1]\n",
    "\n",
    "model.sequential_constraint = pyEnv.Constraint(model.I, model.J, model.K, rule=sequential_constraint_rule)\n",
    "\n",
    "\n",
    "# resolver o modelo\n",
    "solver = pyEnv.SolverFactory('glpk')\n",
    "results = solver.solve(model)\n",
    "\n",
    "# resultados\n",
    "print(\"Status:\", results.solver.termination_condition)\n",
    "print(\"Valor objetivo ótimo (soma dos lucros esperados):\", pyEnv.value(model.profit))\n",
    "\n",
    "print(\"\\nSolução ótima:\")\n",
    "for i in model.I:\n",
    "    for j in model.J:\n",
    "        for k in model.K:\n",
    "            print(f\"{i,j,k}: {model.x[i, j, k].value}\")\n"
   ]
  },
  {
   "cell_type": "code",
   "execution_count": 3,
   "metadata": {},
   "outputs": [
    {
     "data": {
      "text/plain": [
       "[[4.0, 4.0], [3.0, 4.0]]"
      ]
     },
     "execution_count": 3,
     "metadata": {},
     "output_type": "execute_result"
    }
   ],
   "source": [
    "# quantidade de bicicletas de cada categoria j transportadas para cada área i\n",
    "sum_x = [[sum(model.x[i, j, k].value for k in model.K) for j in model.J] for i in model.I]\n",
    "sum_x"
   ]
  },
  {
   "cell_type": "code",
   "execution_count": 4,
   "metadata": {},
   "outputs": [
    {
     "data": {
      "text/plain": [
       "array([[[1, 2, 3, 4],\n",
       "        [5, 3, 2, 1]],\n",
       "\n",
       "       [[8, 5, 2, 1],\n",
       "        [3, 4, 7, 6]]])"
      ]
     },
     "execution_count": 4,
     "metadata": {},
     "output_type": "execute_result"
    }
   ],
   "source": [
    "matrix"
   ]
  }
 ],
 "metadata": {
  "kernelspec": {
   "display_name": ".env",
   "language": "python",
   "name": "python3"
  },
  "language_info": {
   "codemirror_mode": {
    "name": "ipython",
    "version": 3
   },
   "file_extension": ".py",
   "mimetype": "text/x-python",
   "name": "python",
   "nbconvert_exporter": "python",
   "pygments_lexer": "ipython3",
   "version": "3.9.6"
  }
 },
 "nbformat": 4,
 "nbformat_minor": 2
}
