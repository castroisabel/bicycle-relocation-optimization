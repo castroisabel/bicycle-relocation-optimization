{
 "cells": [
  {
   "cell_type": "code",
   "execution_count": 1,
   "metadata": {},
   "outputs": [],
   "source": [
    "import numpy as np\n",
    "import pandas as pd\n",
    "import matplotlib.pyplot as plt\n",
    "import os\n",
    "import sys\n",
    "sys.path.append('..')\n",
    "\n",
    "from src.solver import relocate_bicycles\n",
    "\n",
    "path = '../data/processed/'"
   ]
  },
  {
   "cell_type": "code",
   "execution_count": 2,
   "metadata": {},
   "outputs": [
    {
     "name": "stdout",
     "output_type": "stream",
     "text": [
      "Disponibilidade:  [272. 270. 279. 267. 282. 279.]\n",
      "Shape Áreas:  (7, 6, 115)\n"
     ]
    }
   ],
   "source": [
    "categories = pd.read_csv(f'{path}categories.csv')\n",
    "a = categories.iloc[0].values\n",
    "print('Disponibilidade: ', a)\n",
    "s = categories.iloc[1].values\n",
    "areas = [pd.read_csv(f'{path}area{i+1}.csv') for i in range(7)]\n",
    "matrix = np.stack([area.T.values for area in areas], axis=0)\n",
    "print('Shape Áreas: ', matrix.shape)"
   ]
  },
  {
   "cell_type": "code",
   "execution_count": 3,
   "metadata": {},
   "outputs": [
    {
     "name": "stdout",
     "output_type": "stream",
     "text": [
      "Status: optimal\n",
      "Valor objetivo ótimo (Lucro esperado): 78866.16080000003\n",
      "\n",
      "Solução ótima:\n",
      "Número de bicicletas da categoria 2 a serem movidas para a área 1: 6.0\n",
      "Número de bicicletas da categoria 1 a serem movidas para a área 3: 91.0\n",
      "Número de bicicletas da categoria 2 a serem movidas para a área 3: 92.0\n",
      "Número de bicicletas da categoria 3 a serem movidas para a área 3: 110.0\n",
      "Número de bicicletas da categoria 4 a serem movidas para a área 3: 93.0\n",
      "Número de bicicletas da categoria 5 a serem movidas para a área 3: 104.0\n",
      "Número de bicicletas da categoria 6 a serem movidas para a área 3: 106.0\n",
      "Número de bicicletas da categoria 1 a serem movidas para a área 4: 103.0\n",
      "Número de bicicletas da categoria 2 a serem movidas para a área 4: 97.0\n",
      "Número de bicicletas da categoria 3 a serem movidas para a área 4: 72.0\n",
      "Número de bicicletas da categoria 4 a serem movidas para a área 4: 103.0\n",
      "Número de bicicletas da categoria 5 a serem movidas para a área 4: 108.0\n",
      "Número de bicicletas da categoria 6 a serem movidas para a área 4: 109.0\n",
      "Número de bicicletas da categoria 1 a serem movidas para a área 6: 78.0\n",
      "Número de bicicletas da categoria 2 a serem movidas para a área 6: 75.0\n",
      "Número de bicicletas da categoria 3 a serem movidas para a área 6: 97.0\n",
      "Número de bicicletas da categoria 4 a serem movidas para a área 6: 71.0\n",
      "Número de bicicletas da categoria 5 a serem movidas para a área 6: 70.0\n",
      "Número de bicicletas da categoria 6 a serem movidas para a área 6: 64.0\n"
     ]
    },
    {
     "data": {
      "text/plain": [
       "array([[  0.,   6.,   0.,   0.,   0.,   0.],\n",
       "       [  0.,   0.,   0.,   0.,   0.,   0.],\n",
       "       [ 91.,  92., 110.,  93., 104., 106.],\n",
       "       [103.,  97.,  72., 103., 108., 109.],\n",
       "       [  0.,   0.,   0.,   0.,   0.,   0.],\n",
       "       [ 78.,  75.,  97.,  71.,  70.,  64.],\n",
       "       [  0.,   0.,   0.,   0.,   0.,   0.]])"
      ]
     },
     "execution_count": 3,
     "metadata": {},
     "output_type": "execute_result"
    }
   ],
   "source": [
    "profit, opt_solution = relocate_bicycles(matrix, a, s, 10e12)\n",
    "opt_solution"
   ]
  },
  {
   "cell_type": "markdown",
   "metadata": {},
   "source": [
    "### 1 - Objective Function"
   ]
  },
  {
   "cell_type": "code",
   "execution_count": 4,
   "metadata": {},
   "outputs": [
    {
     "data": {
      "text/plain": [
       "78866.1608"
      ]
     },
     "execution_count": 4,
     "metadata": {},
     "output_type": "execute_result"
    }
   ],
   "source": [
    "def obj_function(solution, areas):\n",
    "    profit = np.zeros_like(solution)\n",
    "    for i, area in enumerate(areas):\n",
    "        for j, column in enumerate(area.columns):\n",
    "            profit[i][j] = sum(area[column][:int(solution[i][j])])\n",
    "    return profit.sum()\n",
    "\n",
    "\n",
    "profit = obj_function(opt_solution, areas)\n",
    "profit"
   ]
  },
  {
   "cell_type": "markdown",
   "metadata": {},
   "source": [
    "### 2 - Supplies Constraint"
   ]
  },
  {
   "cell_type": "code",
   "execution_count": 5,
   "metadata": {},
   "outputs": [
    {
     "data": {
      "text/plain": [
       "0"
      ]
     },
     "execution_count": 5,
     "metadata": {},
     "output_type": "execute_result"
    }
   ],
   "source": [
    "def sum_supplies(solution, supplies):\n",
    "    sum = 0\n",
    "    for categorie, supply in enumerate(supplies):\n",
    "        sum+=int(solution[:,categorie].sum() > supply)\n",
    "    return sum\n",
    "\n",
    "sum_supplies(opt_solution, a)"
   ]
  },
  {
   "cell_type": "markdown",
   "metadata": {},
   "source": [
    "### 3 - Disturbed Solutions"
   ]
  },
  {
   "cell_type": "code",
   "execution_count": 6,
   "metadata": {},
   "outputs": [
    {
     "data": {
      "text/plain": [
       "array([[  0.,   6.,   0.,   0.,   0.,   0.],\n",
       "       [  0.,   0.,   0.,   0.,   0.,   0.],\n",
       "       [ 91.,  92., 110.,  93., 104., 106.],\n",
       "       [103.,  97.,  72., 103., 108., 109.],\n",
       "       [  0.,   1.,   0.,   0.,   0.,   0.],\n",
       "       [ 78.,  75.,  97.,  71.,  70.,  64.],\n",
       "       [  0.,   0.,   0.,   0.,   0.,   0.]])"
      ]
     },
     "execution_count": 6,
     "metadata": {},
     "output_type": "execute_result"
    }
   ],
   "source": [
    "def generate_neighbor(solution):\n",
    "    area1 = np.random.randint(0, solution.shape[0])\n",
    "    area2 = np.random.randint(0, solution.shape[0])\n",
    "\n",
    "    category = np.random.randint(0, solution.shape[1])\n",
    "\n",
    "    max_bikes_to_move = min(solution[area1, category], solution[area2, category])\n",
    "    bikes_to_move = np.random.randint(1, max_bikes_to_move + 2)\n",
    "\n",
    "    neighbor_solution = np.copy(solution)\n",
    "    neighbor_solution[area1, category] -= bikes_to_move\n",
    "    neighbor_solution[area2, category] += bikes_to_move\n",
    "\n",
    "    return np.clip(neighbor_solution, 0, None)\n",
    "\n",
    "neighbor_solution = generate_neighbor(opt_solution)\n",
    "neighbor_solution"
   ]
  },
  {
   "cell_type": "markdown",
   "metadata": {},
   "source": [
    "### 4 - Simulated Annealing"
   ]
  },
  {
   "cell_type": "code",
   "execution_count": 7,
   "metadata": {},
   "outputs": [],
   "source": [
    "def simulated_annealing(initial_solution, initial_temperature, cooling_rate, num_iterations, areas, supplies):\n",
    "    current_solution = initial_solution\n",
    "    current_temperature = initial_temperature\n",
    "\n",
    "    for i in range(num_iterations):\n",
    "        # Avaliar a solução atual\n",
    "        current_profit = obj_function(current_solution, areas)\n",
    "\n",
    "        # Gerar uma solução vizinha\n",
    "        neighbor_solution = generate_neighbor(current_solution)\n",
    "        neighbor_profit = obj_function(neighbor_solution, areas)\n",
    "\n",
    "        # Calcular a diferença de lucro entre as soluções\n",
    "        profit_difference = neighbor_profit - current_profit\n",
    "\n",
    "        # Aceitar a solução vizinha se ela for melhor ou de acordo com a probabilidade de Boltzmann\n",
    "        if profit_difference > 0 or np.random.rand() < np.exp(profit_difference / current_temperature):\n",
    "            if sum_supplies(neighbor_solution, supplies) == 0:\n",
    "                current_solution = neighbor_solution\n",
    "\n",
    "        # Reduzir a temperatura\n",
    "        current_temperature *= cooling_rate\n",
    "\n",
    "    return current_solution"
   ]
  },
  {
   "cell_type": "code",
   "execution_count": 8,
   "metadata": {},
   "outputs": [
    {
     "name": "stdout",
     "output_type": "stream",
     "text": [
      "Best Solution:\n",
      " [[  0.   0.   0.   0.   1.   0.]\n",
      " [  0.   0.   0.   0.   0.   0.]\n",
      " [ 91.  92. 110.  89. 107. 106.]\n",
      " [103.  94.  77. 104. 108. 109.]\n",
      " [  0.   0.   0.   0.   0.   0.]\n",
      " [ 78.  84.  92.  74.  65.  64.]\n",
      " [  0.   0.   0.   0.   1.   0.]]\n",
      "Profit:  78459.39600000001\n"
     ]
    }
   ],
   "source": [
    "initial_solution = np.random.randint(0, a.min()/len(a), size=(7, 6)).astype(float) \n",
    "initial_temperature = 1000\n",
    "cooling_rate = 0.99\n",
    "num_iterations = 5000\n",
    "\n",
    "best_solution = simulated_annealing(initial_solution, initial_temperature, cooling_rate, num_iterations, areas, a)\n",
    "print(\"Best Solution:\\n\", best_solution)\n",
    "print(\"Profit: \", obj_function(best_solution, areas))"
   ]
  },
  {
   "cell_type": "markdown",
   "metadata": {},
   "source": [
    "### 5 - Initial Guess"
   ]
  },
  {
   "cell_type": "code",
   "execution_count": 9,
   "metadata": {},
   "outputs": [
    {
     "name": "stdout",
     "output_type": "stream",
     "text": [
      "Profit:  78319.2982\n",
      "Profit:  78424.1961\n",
      "Profit:  78252.66010000001\n",
      "Profit:  78425.0229\n",
      "Profit:  78520.1029\n",
      "Profit:  78650.44440000001\n",
      "Profit:  78519.26699999999\n",
      "Profit:  78576.2599\n",
      "Profit:  78408.77729999999\n",
      "Profit:  78161.64880000001\n"
     ]
    }
   ],
   "source": [
    "for i in range(10):\n",
    "    initial_solution = np.random.randint(0, a.min()/len(a), size=(7, 6)).astype(float)\n",
    "    initial_temperature = 1000\n",
    "    cooling_rate = 0.99\n",
    "    num_iterations = 5000\n",
    "    best_solution = simulated_annealing(initial_solution, initial_temperature, cooling_rate, num_iterations, areas, a)\n",
    "    profit = obj_function(best_solution, areas)\n",
    "\n",
    "    print('Profit: ', profit)"
   ]
  },
  {
   "cell_type": "markdown",
   "metadata": {},
   "source": [
    "### 6 - Function"
   ]
  },
  {
   "cell_type": "code",
   "execution_count": 10,
   "metadata": {},
   "outputs": [],
   "source": [
    "sys.path.append('..')\n",
    "\n",
    "import src.algorithm as alg"
   ]
  },
  {
   "cell_type": "code",
   "execution_count": 11,
   "metadata": {},
   "outputs": [
    {
     "name": "stdout",
     "output_type": "stream",
     "text": [
      "Valor objetivo ótimo (Lucro esperado): 78636.76060000001\n",
      "\n",
      "Solução ótima:\n",
      "Número de bicicletas da categoria 1 a serem movidas para a área 3: 91.0\n",
      "Número de bicicletas da categoria 2 a serem movidas para a área 3: 92.0\n",
      "Número de bicicletas da categoria 3 a serem movidas para a área 3: 111.0\n",
      "Número de bicicletas da categoria 4 a serem movidas para a área 3: 93.0\n",
      "Número de bicicletas da categoria 5 a serem movidas para a área 3: 100.0\n",
      "Número de bicicletas da categoria 6 a serem movidas para a área 3: 106.0\n",
      "Número de bicicletas da categoria 1 a serem movidas para a área 4: 103.0\n",
      "Número de bicicletas da categoria 2 a serem movidas para a área 4: 97.0\n",
      "Número de bicicletas da categoria 3 a serem movidas para a área 4: 75.0\n",
      "Número de bicicletas da categoria 4 a serem movidas para a área 4: 103.0\n",
      "Número de bicicletas da categoria 5 a serem movidas para a área 4: 101.0\n",
      "Número de bicicletas da categoria 6 a serem movidas para a área 4: 109.0\n",
      "Número de bicicletas da categoria 1 a serem movidas para a área 6: 78.0\n",
      "Número de bicicletas da categoria 2 a serem movidas para a área 6: 81.0\n",
      "Número de bicicletas da categoria 3 a serem movidas para a área 6: 93.0\n",
      "Número de bicicletas da categoria 4 a serem movidas para a área 6: 71.0\n",
      "Número de bicicletas da categoria 5 a serem movidas para a área 6: 81.0\n",
      "Número de bicicletas da categoria 6 a serem movidas para a área 6: 64.0\n"
     ]
    }
   ],
   "source": [
    "np.random.seed(42)\n",
    "initial_solution = np.random.randint(0, a.min()/len(a), size=(7, 6))\n",
    "initial_temperature = 1000\n",
    "cooling_rate = 0.99\n",
    "num_iterations = 5000\n",
    "\n",
    "profit, solution = alg.relocate_bicycles(initial_solution, initial_temperature, cooling_rate, num_iterations, areas, a)"
   ]
  },
  {
   "cell_type": "code",
   "execution_count": 12,
   "metadata": {},
   "outputs": [
    {
     "data": {
      "text/plain": [
       "array([[  0.,   0.,   0.,   0.,   0.,   0.],\n",
       "       [  0.,   0.,   0.,   0.,   0.,   0.],\n",
       "       [ 91.,  92., 111.,  93., 100., 106.],\n",
       "       [103.,  97.,  75., 103., 101., 109.],\n",
       "       [  0.,   0.,   0.,   0.,   0.,   0.],\n",
       "       [ 78.,  81.,  93.,  71.,  81.,  64.],\n",
       "       [  0.,   0.,   0.,   0.,   0.,   0.]])"
      ]
     },
     "execution_count": 12,
     "metadata": {},
     "output_type": "execute_result"
    }
   ],
   "source": [
    "solution"
   ]
  }
 ],
 "metadata": {
  "kernelspec": {
   "display_name": ".env",
   "language": "python",
   "name": "python3"
  },
  "language_info": {
   "codemirror_mode": {
    "name": "ipython",
    "version": 3
   },
   "file_extension": ".py",
   "mimetype": "text/x-python",
   "name": "python",
   "nbconvert_exporter": "python",
   "pygments_lexer": "ipython3",
   "version": "3.9.6"
  }
 },
 "nbformat": 4,
 "nbformat_minor": 2
}
